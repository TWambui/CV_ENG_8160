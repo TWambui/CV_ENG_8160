{
 "cells": [
  {
   "cell_type": "code",
   "execution_count": 1,
   "metadata": {},
   "outputs": [],
   "source": [
    "import pandas as pd\n",
    "import random, math\n",
    "import torch\n",
    "import torch.nn as nn\n",
    "import numpy as np\n",
    "import matplotlib.pyplot as plt\n",
    "from sklearn.preprocessing import StandardScaler\n",
    "from scipy import fftpack\n",
    "import torch.utils.data as utils\n",
    "import os\n",
    "from sklearn.metrics import mean_absolute_percentage_error\n",
    "from torch.utils.data import Dataset, DataLoader\n",
    "from sklearn.model_selection import train_test_split\n",
    "from tqdm import tqdm"
   ]
  },
  {
   "cell_type": "code",
   "execution_count": null,
   "metadata": {},
   "outputs": [],
   "source": [
    "# !gdown 'https://drive.google.com/uc?id=1E_qqe7kfvfApM4hCOBMPoXhyEPyrUJkN'\n",
    "# !gdown 'https://drive.google.com/uc?id=1j-3-lHegY--FDHKZvz86HBtilV2dsP-i'"
   ]
  },
  {
   "cell_type": "code",
   "execution_count": null,
   "metadata": {},
   "outputs": [],
   "source": [
    "# !unzip 'train.zip' -d '.'\n",
    "# !unzip 'test.zip' -d '.'"
   ]
  },
  {
   "cell_type": "code",
   "execution_count": 58,
   "metadata": {},
   "outputs": [],
   "source": [
    "class TrafficForecast(Dataset):\n",
    "    def __init__(self,pkl_path, window, horizon, task='train'):\n",
    "        self.pkl_path = pkl_path\n",
    "        self.window = window\n",
    "        self.horizon = horizon\n",
    "        self.df = None\n",
    "        self.seg_ids = None\n",
    "        self.X = []\n",
    "        self.y = []\n",
    "\n",
    "\n",
    "        df = pd.read_pickle(self.pkl_path)\n",
    "        df['time'] = pd.to_datetime(df['time'])\n",
    "        df['unix_timestamp'] = df['time'].astype(int) / 10**9\n",
    "        df['dow'] = df['time'].dt.weekday\n",
    "        df['hour'] = df['time'].dt.hour\n",
    "        df['min'] = df['time'].dt.minute\n",
    "        self.df = df\n",
    "        # self.df = df.sample(frac=1).reset_index(drop=True)\n",
    "        self.seg_ids = self.df['segmentID'].unique()\n",
    "        self.setup_forecast()\n",
    "        X_train, X_test, y_train, y_test = train_test_split(self.X, self.y, test_size=0.2, random_state=1)\n",
    "     \n",
    "\n",
    "        if task == 'train':\n",
    "            self.inputs = X_train\n",
    "            self.targets = y_train\n",
    "        if task == 'test':\n",
    "            self.inputs = X_test\n",
    "            self.targets = y_test\n",
    "\n",
    "\n",
    "    def setup_forecast(self):\n",
    "        for segid in self.seg_ids:\n",
    "            df_seg_id = self.df[self.df['segmentID'] == segid]\n",
    "            df_seg_id = df_seg_id.sort_values(by='time',ascending=True)\n",
    "            df_seg_id = df_seg_id.fillna(method=\"ffill\")\n",
    "            TI_series = df_seg_id['TrafficIndex_GP'].values\n",
    "            hour_series = df_seg_id['hour'].values\n",
    "            #split to train and test\n",
    "            for t in range(0,len(TI_series)-(self.window+self.horizon)):\n",
    "                # x = np.vstack((TI_series[t:t+self.window], hour_series[t:t+self.window]))\n",
    "                x = TI_series[t:t+self.window]\n",
    "                y = TI_series[t+self.window:(t+self.window+self.horizon)]\n",
    "\n",
    "                self.X.append(x)\n",
    "                self.y.append(y)\n",
    "\n",
    "    def __len__(self):\n",
    "        return len(self.inputs)\n",
    "\n",
    "\n",
    "    def __getitem__(self,idx):\n",
    "        X = torch.tensor(self.inputs[idx],dtype=torch.float32).reshape(self.window,1)\n",
    "        y=torch.tensor(self.targets[idx],dtype=torch.float32)\n",
    "\n",
    "        return {'inputs':X,'outputs':y}\n"
   ]
  },
  {
   "cell_type": "code",
   "execution_count": 59,
   "metadata": {},
   "outputs": [
    {
     "name": "stderr",
     "output_type": "stream",
     "text": [
      "/tmp/ipykernel_69455/3497787159.py:37: FutureWarning: DataFrame.fillna with 'method' is deprecated and will raise in a future version. Use obj.ffill() or obj.bfill() instead.\n",
      "  df_seg_id = df_seg_id.fillna(method=\"ffill\")\n",
      "/tmp/ipykernel_69455/3497787159.py:37: FutureWarning: DataFrame.fillna with 'method' is deprecated and will raise in a future version. Use obj.ffill() or obj.bfill() instead.\n",
      "  df_seg_id = df_seg_id.fillna(method=\"ffill\")\n"
     ]
    }
   ],
   "source": [
    "tobj_train = TrafficForecast('tps_df.pkl',10,36,\"train\")\n",
    "tobj_test = TrafficForecast('tps_df.pkl',10,36,\"test\")"
   ]
  },
  {
   "cell_type": "code",
   "execution_count": 60,
   "metadata": {},
   "outputs": [],
   "source": [
    "bs = 1024\n",
    "dataloader_train = DataLoader(tobj_train, batch_size=bs, shuffle=False, num_workers=0,drop_last=True)\n",
    "dataloader_test = DataLoader(tobj_test, batch_size=bs, shuffle=False, num_workers=0,drop_last=True)"
   ]
  },
  {
   "cell_type": "code",
   "execution_count": 61,
   "metadata": {},
   "outputs": [
    {
     "name": "stdout",
     "output_type": "stream",
     "text": [
      "0 torch.Size([1024, 10, 1]) torch.Size([1024, 36])\n",
      "1 torch.Size([1024, 10, 1]) torch.Size([1024, 36])\n",
      "2 torch.Size([1024, 10, 1]) torch.Size([1024, 36])\n",
      "3 torch.Size([1024, 10, 1]) torch.Size([1024, 36])\n",
      "#####\n",
      "torch.Size([1024, 10, 1]) torch.Size([1024, 36])\n",
      "torch.Size([1024, 10, 1]) torch.Size([1024, 36])\n",
      "torch.Size([1024, 10, 1]) torch.Size([1024, 36])\n",
      "torch.Size([1024, 10, 1]) torch.Size([1024, 36])\n"
     ]
    }
   ],
   "source": [
    "for idx, data in enumerate(dataloader_train):\n",
    "    print (idx, data['inputs'].shape,data['outputs'].shape)\n",
    "    if idx == 3:\n",
    "        break\n",
    "print(\"#####\")\n",
    "for idx, data in enumerate(dataloader_test):\n",
    "    print (data['inputs'].shape,data['outputs'].shape)\n",
    "    if idx == 3:\n",
    "        break"
   ]
  },
  {
   "cell_type": "code",
   "execution_count": 33,
   "metadata": {},
   "outputs": [],
   "source": [
    "device = torch.device(\"cuda:0\" if torch.cuda.is_available() else \"cpu\")"
   ]
  },
  {
   "cell_type": "code",
   "execution_count": 62,
   "metadata": {},
   "outputs": [],
   "source": [
    "from models import MyLSTM, MyGRU"
   ]
  },
  {
   "cell_type": "code",
   "execution_count": 64,
   "metadata": {},
   "outputs": [],
   "source": [
    "model = MyGRU(n_inputs=1, n_hidden=10, n_rnnlayers=2, n_outputs=36)\n",
    "# model = MyLSTM(n_inputs=1, n_hidden=10, n_rnnlayers=2, n_outputs=36)\n",
    "model.to(device)\n",
    "criterion = nn.MSELoss()\n",
    "optimizer = torch.optim.Adam(model.parameters(), lr=0.001)"
   ]
  },
  {
   "cell_type": "code",
   "execution_count": 65,
   "metadata": {},
   "outputs": [
    {
     "name": "stderr",
     "output_type": "stream",
     "text": [
      "  0%|          | 0/3 [00:00<?, ?it/s]/home/tanner/miniconda3/envs/sam/lib/python3.10/site-packages/numpy/core/fromnumeric.py:3504: RuntimeWarning: Mean of empty slice.\n",
      "  return _methods._mean(a, axis=axis, dtype=dtype,\n",
      "/home/tanner/miniconda3/envs/sam/lib/python3.10/site-packages/numpy/core/_methods.py:129: RuntimeWarning: invalid value encountered in scalar divide\n",
      "  ret = ret.dtype.type(ret / rcount)\n",
      " 33%|███▎      | 1/3 [00:09<00:19,  9.53s/it]"
     ]
    },
    {
     "name": "stdout",
     "output_type": "stream",
     "text": [
      "Epoch 1/3, Training Loss: 0.0781\n"
     ]
    },
    {
     "name": "stderr",
     "output_type": "stream",
     "text": [
      " 67%|██████▋   | 2/3 [00:19<00:09,  9.67s/it]"
     ]
    },
    {
     "name": "stdout",
     "output_type": "stream",
     "text": [
      "Epoch 2/3, Training Loss: 0.0445\n"
     ]
    },
    {
     "name": "stderr",
     "output_type": "stream",
     "text": [
      "100%|██████████| 3/3 [00:29<00:00,  9.74s/it]"
     ]
    },
    {
     "name": "stdout",
     "output_type": "stream",
     "text": [
      "Epoch 3/3, Training Loss: 0.0330\n"
     ]
    },
    {
     "name": "stderr",
     "output_type": "stream",
     "text": [
      "\n"
     ]
    }
   ],
   "source": [
    "mean_loss = []\n",
    "losses = []\n",
    "test_losses = []\n",
    "mean_test_loss = []\n",
    "n_epochs = 3\n",
    "# ts = ToTensor()\n",
    "for it in tqdm(range(n_epochs)):\n",
    "  # zero the parameter gradients\n",
    "  for i_batch, sample_batched in enumerate(dataloader_train):\n",
    "    optimizer.zero_grad()\n",
    "    outputs = model(sample_batched['inputs'].to(device))\n",
    "    loss = criterion(outputs, sample_batched['outputs'].to(device))\n",
    "    losses.append(loss.item())\n",
    "    loss.backward()\n",
    "    optimizer.step()\n",
    "\n",
    "  mean_loss.append(np.mean(losses))\n",
    "  mean_test_loss.append(np.mean(test_losses))\n",
    "  if (it+1) % 1 == 0:\n",
    "    print(f'Epoch {it+1}/{n_epochs}, Training Loss: {np.mean(losses):.4f}')"
   ]
  },
  {
   "cell_type": "code",
   "execution_count": 66,
   "metadata": {},
   "outputs": [
    {
     "data": {
      "text/plain": [
       "[<matplotlib.lines.Line2D at 0x7f31168e8b80>]"
      ]
     },
     "execution_count": 66,
     "metadata": {},
     "output_type": "execute_result"
    },
    {
     "data": {
      "image/png": "[encoded data removed]",
      "text/plain": [
       "<Figure size 640x480 with 1 Axes>"
      ]
     },
     "metadata": {},
     "output_type": "display_data"
    }
   ],
   "source": [
    "plt.plot(losses,'k',label='training')\n"
   ]
  },
  {
   "cell_type": "code",
   "execution_count": 39,
   "metadata": {},
   "outputs": [],
   "source": [
    "torch.save(model.state_dict(), 'model_volume.pt')\n",
    "# torch.save(model.state_dict(), 'model_volumehour.pt')"
   ]
  },
  {
   "cell_type": "code",
   "execution_count": 69,
   "metadata": {},
   "outputs": [
    {
     "data": {
      "text/plain": [
       "MyGRU(\n",
       "  (relu): ReLU()\n",
       "  (rnn): GRU(1, 10, num_layers=2, batch_first=True)\n",
       "  (fc): Linear(in_features=10, out_features=36, bias=True)\n",
       ")"
      ]
     },
     "execution_count": 69,
     "metadata": {},
     "output_type": "execute_result"
    }
   ],
   "source": [
    "# model_volumehour = MyGRU(n_inputs=2, n_hidden=10, n_rnnlayers=2, n_outputs=36)\n",
    "# model_volumehour.load_state_dict(torch.load('model_volumehour.pt'))\n",
    "# model_volume = MyGRU(n_inputs=1, n_hidden=10, n_rnnlayers=2, n_outputs=36)\n",
    "# model_volume.load_state_dict(torch.load('model_volume.pt'))\n",
    "# model_volumehour.eval()\n",
    "model.eval()"
   ]
  },
  {
   "cell_type": "code",
   "execution_count": 67,
   "metadata": {},
   "outputs": [],
   "source": [
    "def evaluation(model_arch,dataloader_test):\n",
    "    model_arch.to(device)\n",
    "    rmse = []\n",
    "    maes = []\n",
    "    for i_test,sample_test in enumerate(dataloader_test):\n",
    "        preds = model_arch(sample_test['inputs'].to(device))\n",
    "        targets = sample_test['outputs'].to(device)\n",
    "        error = ((preds-targets)**2).sum(1).mean().detach().cpu().numpy()\n",
    "        mae = (preds-targets).abs().sum(1).mean().detach().cpu().numpy()\n",
    "        rmse.append(math.sqrt(error))\n",
    "        maes.append(mae)\n",
    "    return {'rmse':np.mean(rmse),'mae':np.mean(maes)}"
   ]
  },
  {
   "cell_type": "code",
   "execution_count": 24,
   "metadata": {},
   "outputs": [
    {
     "name": "stdout",
     "output_type": "stream",
     "text": [
      "Volume and Hour dimension. rmse: 0.6048032276825978, mae: 1.7566388845443726\n"
     ]
    }
   ],
   "source": [
    "##add hour dimension to training\n",
    "eval_volhour = evaluation(model, dataloader_test)\n",
    "print(f\"Volume and Hour dimension. rmse: {eval_volhour['rmse']}, mae: {eval_volhour['mae']}\")\n",
    "\n"
   ]
  },
  {
   "cell_type": "code",
   "execution_count": 43,
   "metadata": {},
   "outputs": [
    {
     "name": "stdout",
     "output_type": "stream",
     "text": [
      "Only volume dimension. rmse: 0.6287271059886029 mae: 1.8069144487380981\n"
     ]
    }
   ],
   "source": [
    "eval_vol = evaluation(model, dataloader_test)\n",
    "print(f\"Only volume dimension. rmse: {eval_vol['rmse']} mae: {eval_vol['mae']}\")"
   ]
  },
  {
   "cell_type": "code",
   "execution_count": 44,
   "metadata": {},
   "outputs": [
    {
     "name": "stdout",
     "output_type": "stream",
     "text": [
      "GRU window 36, horizon 36 on volume only. rmse: 0.6287271059886029 mae: 1.8069144487380981\n"
     ]
    }
   ],
   "source": [
    "##compare the lstm to GRU: window = 10,36, horizon 36\n",
    "eval = evaluation(model, dataloader_test)\n",
    "print(f\"GRU window 36, horizon 36 on volume only. rmse: {eval['rmse']} mae: {eval['mae']}\")"
   ]
  },
  {
   "cell_type": "code",
   "execution_count": 70,
   "metadata": {},
   "outputs": [
    {
     "name": "stdout",
     "output_type": "stream",
     "text": [
      "GRU window 10, horizon 36 on volume only. rmse: 0.5985679901957417 mae: 1.6180999279022217\n"
     ]
    }
   ],
   "source": [
    "eval = evaluation(model, dataloader_test)\n",
    "print(f\"GRU window 10, horizon 36 on volume only. rmse: {eval['rmse']} mae: {eval['mae']}\")"
   ]
  },
  {
   "cell_type": "code",
   "execution_count": 48,
   "metadata": {},
   "outputs": [
    {
     "name": "stdout",
     "output_type": "stream",
     "text": [
      "LSTM window 36, horizon 36 on volume only. rmse: 0.5858976564886356 mae: 1.5746110677719116\n"
     ]
    }
   ],
   "source": [
    "eval = evaluation(model, dataloader_test)\n",
    "print(f\"LSTM window 36, horizon 36 on volume only. rmse: {eval['rmse']} mae: {eval['mae']}\")"
   ]
  },
  {
   "cell_type": "code",
   "execution_count": 57,
   "metadata": {},
   "outputs": [
    {
     "name": "stdout",
     "output_type": "stream",
     "text": [
      "LSTM window 10, horizon 36 on volume only. rmse: 0.585550403201656 mae: 1.4473798274993896\n"
     ]
    }
   ],
   "source": [
    "eval = evaluation(model, dataloader_test)\n",
    "print(f\"LSTM window 10, horizon 36 on volume only. rmse: {eval['rmse']} mae: {eval['mae']}\")"
   ]
  }
 ],
 "metadata": {
  "kernelspec": {
   "display_name": "emernerf",
   "language": "python",
   "name": "python3"
  },
  "language_info": {
   "codemirror_mode": {
    "name": "ipython",
    "version": 3
   },
   "file_extension": ".py",
   "mimetype": "text/x-python",
   "name": "python",
   "nbconvert_exporter": "python",
   "pygments_lexer": "ipython3",
   "version": "3.10.13"
  },
  "orig_nbformat": 4
 },
 "nbformat": 4,
 "nbformat_minor": 2
}
